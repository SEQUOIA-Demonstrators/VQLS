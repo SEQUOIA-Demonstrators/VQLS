{
 "cells": [
  {
   "attachments": {},
   "cell_type": "markdown",
   "metadata": {},
   "source": [
    "<br>\n",
    "\n",
    "#  Local cost function\n",
    "\n",
    "<br>"
   ]
  },
  {
   "attachments": {},
   "cell_type": "markdown",
   "metadata": {},
   "source": [
    "As we mentioned, there are two types of cost functions (i) global and (ii) local. We have seen the global cost function and because of it's shortcomings like barrean plateau as the size of the system under investigation increases. There comes local cost function to our rescue, as it gives us the best possible chance to tackle the ubiquitous barren plateau problem in the variational algorithms. \n",
    "\n",
    "<br>\n",
    "\n",
    "The theoretical foundation for the local cost function is given below and the way in which the expectation value take the form. To our advantage we go from the need to calculate three expectation values to just calculating only one expectation value."
   ]
  },
  {
   "attachments": {},
   "cell_type": "markdown",
   "metadata": {},
   "source": [
    "We have seen the global cost function in the second demonstrator, but now we will look at the local cost function theory and implementation. \n",
    "\n",
    "To this end, we map from the <b> global </b> to the <b> local </b> cost function, using the following transformation (same minimum)"
   ]
  },
  {
   "attachments": {},
   "cell_type": "markdown",
   "metadata": {},
   "source": [
    "\\begin{align*}\n",
    "\\sum \\limits_{m,n} c_m^\\ast c_n \\langle 0 \\vert V^\\dagger (\\alpha) A_m^\\dagger U {\\vert 0 \\rangle  \\langle 0 \\vert} U^\\dagger A_n V (\\alpha) \\vert 0 \\rangle \\quad \\rightarrow \\quad  \\sum \\limits_{m,n} c_m^\\ast c_n \\langle 0 \\vert V^\\dagger (\\alpha) A_m^\\dagger U {P} U^\\dagger A_n V (\\alpha) \\vert 0 \\rangle\n",
    "\\end{align*}"
   ]
  },
  {
   "attachments": {},
   "cell_type": "markdown",
   "metadata": {},
   "source": [
    "with \n",
    "\n",
    "\\begin{align*}\n",
    "{P}=\\dfrac{1}{2} - \\dfrac{1}{2n} \\sum \\limits_{j=0}^{n-1} Z_j\n",
    "\\end{align*}"
   ]
  },
  {
   "attachments": {},
   "cell_type": "markdown",
   "metadata": {},
   "source": [
    "In <a href=\"https://arxiv.org/pdf/1909.05820.pdf\">Bravo-Prieto et al.</a> this mapping relies on Eq.(D7). This local cost function is although easier to implement, has a worse convergence and success rate."
   ]
  },
  {
   "attachments": {},
   "cell_type": "markdown",
   "metadata": {},
   "source": [
    "The big advatage of the mapping is, that after the transformation we only need to determine the following expectation values"
   ]
  },
  {
   "attachments": {},
   "cell_type": "markdown",
   "metadata": {},
   "source": [
    "\\begin{align*}\n",
    "& (i) \\quad \\  \\langle 0 \\vert V^\\dagger (\\alpha) A_m^\\dagger  A_n V (\\alpha) \\vert 0 \\rangle = \\langle \\psi (\\alpha) \\vert A_m^\\dagger  A_n \\vert \\psi(\\alpha) \\rangle \\\\\n",
    "& (ii) \\quad \\langle 0 \\vert V^\\dagger (\\alpha) A_m^\\dagger U Z_j U^\\dagger A_n V (\\alpha) \\vert 0 \\rangle = \\langle \\psi (\\alpha) \\vert A_m^\\dagger U Z_j U^\\dagger A_n \\vert \\psi(\\alpha) \\rangle\n",
    "\\end{align*}"
   ]
  },
  {
   "attachments": {},
   "cell_type": "markdown",
   "metadata": {},
   "source": [
    "Since unitary matrices satisfy\n",
    "\n",
    "\\begin{align}\n",
    "U^\\dagger = U^{-1} \\quad \\Rightarrow U U^\\dagger = U U^{-1} = \\mathbb{I}\n",
    "\\end{align}"
   ]
  },
  {
   "attachments": {},
   "cell_type": "markdown",
   "metadata": {},
   "source": [
    "let us define $ Z_{j=-1} = \\mathbb{I}$. With this nomenclatur, we only need to evaluate one single expectation value for the <b> local </b> cost function, namely:\n",
    "\n",
    "\\begin{align*}\n",
    "\\quad \\langle 0 \\vert V^\\dagger (\\alpha) A_m^\\dagger U Z_j U^\\dagger A_n V (\\alpha) \\vert 0 \\rangle\n",
    "\\end{align*}\n",
    "\n",
    "for \n",
    "\n",
    "\\begin{align*}\n",
    "m,n \\in \\lbrace 0,1,2, \\dots, N \\rbrace  \\quad \\wedge \\quad j \\in \\lbrace-1, 0, 1, \\dots, n-1\\rbrace\n",
    "\\end{align*}"
   ]
  },
  {
   "attachments": {},
   "cell_type": "markdown",
   "metadata": {},
   "source": [
    "Moreover, we <b> do not </b> need to control the variational gate $V(\\alpha)$, since"
   ]
  },
  {
   "attachments": {},
   "cell_type": "markdown",
   "metadata": {},
   "source": [
    "\\begin{align*}\n",
    "\\quad \\langle 0 \\vert V^\\dagger (\\alpha) A_m^\\dagger U Z_j U^\\dagger A_n V (\\alpha) \\vert 0 \\rangle =  \\langle \\psi (\\alpha) \\vert A_m^\\dagger U Z_j U^\\dagger A_n  \\vert \\psi(\\alpha) \\rangle\n",
    "\\end{align*}"
   ]
  },
  {
   "attachments": {},
   "cell_type": "markdown",
   "metadata": {},
   "source": [
    "Even better, the unitariness of $U$ also allows us to <b> omit </b> the fact that we need to control $U$ and $U^\\dagger$ it in the Hadamard test, as well (will be proven below). <br>\n",
    "\n",
    "In what follows, we in particular prove, that the following circuit enables us the evaluate the expectation value above:\n",
    "\n",
    "<br>\n",
    "\n",
    "Figure 4: Hadamard test of the VQLS algorithm using the local cost function. The figure is taken from the <a href=\"https://pennylane.ai/qml/demos/tutorial_vqls.html\">Pennylane documentation</a> and for internal use only.\n"
   ]
  },
  {
   "cell_type": "code",
   "execution_count": null,
   "metadata": {},
   "outputs": [],
   "source": [
    "from IPython.display import Image\n",
    "Image(r\"Images/Local-Hadamard.png\")"
   ]
  },
  {
   "attachments": {},
   "cell_type": "markdown",
   "metadata": {},
   "source": [
    "Analogously to the calculation above, we apply the ${\\text{gates}}$ sucessively in the steps $(i)-(iii)$ and measure eventually.\n",
    "\n",
    "<br>\n",
    "\n",
    "Let us start with the Hadamard test for evaluating the real part of our expectation value of interest:"
   ]
  },
  {
   "attachments": {},
   "cell_type": "markdown",
   "metadata": {},
   "source": [
    "\\begin{align*}\n",
    "\\vert 0 \\rangle \\otimes  \\vert  \\psi \\rangle & \\overset{(i)}{\\rightarrow}  {H} \\vert 0 \\rangle \\otimes  \\vert  \\psi \\rangle = \\dfrac{1}{\\sqrt{2}} \\left(  \\vert 0 \\rangle + \\vert 1 \\rangle \\right) \\otimes \\vert \\psi \\rangle  \\quad \\\\ & \\overset{(ii)}{\\rightarrow} \\dfrac{1}{\\sqrt{2}} \\left(  \\vert 0 \\rangle + \\vert 1 \\rangle \\right) \\otimes   {CA^\\dagger_{m,0,1} U C Z_{j,0,1} U^\\dagger CA_{n,0,1}} \\vert \\psi \\rangle  \\\\\n",
    "& =  \\dfrac{1}{\\sqrt{2}} \\left(  \\vert 0  \\rangle \\otimes {U U^\\dagger} \\vert  \\psi \\rangle + \\vert 1 \\rangle \\otimes A^\\dagger_{m} U Z_{j} U^\\dagger A_{n} \\vert  \\psi \\rangle \\right) \\\\\n",
    "& =  \\dfrac{1}{\\sqrt{2}} \\left(  \\vert 0  \\rangle \\otimes  \\vert  \\psi \\rangle + \\vert 1 \\rangle \\otimes A^\\dagger_{m} U Z_{j} U^\\dagger A_{n} \\vert  \\psi \\rangle \\right)   \n",
    "\\\\ & \\overset{(iii)}{\\rightarrow} \\dfrac{1}{\\sqrt{2}} \\left(  {H}  \\vert 0  \\rangle \\otimes  \\vert  \\psi \\rangle +  {H} \\vert 1 \\rangle \\otimes A^\\dagger_{m} U Z_{j} U^\\dagger A_{n} \\vert  \\psi \\rangle \\right) \\\\\n",
    "& =  \\dfrac{1}{2} \\left( \\left[   \\vert 0  \\rangle + \\vert 1  \\rangle \\right] \\otimes  \\vert  \\psi \\rangle + \\left[   \\vert 0  \\rangle - \\vert 1  \\rangle \\right] \\otimes A^\\dagger_{m} U Z_{j} U^\\dagger A_{n} \\vert  \\psi \\rangle \\right) \\\\\n",
    "&  =\\dfrac{1}{2} \\left( \\vert 0  \\rangle \\otimes \\left[ \\mathbb{I} + A^\\dagger_{m} U Z_{j} U^\\dagger A_{n} \\right]   \\vert  \\psi \\rangle + \\vert 1 \\rangle \\otimes \\left[  \\mathbb{I}  - A^\\dagger_{m} U Z_{j} U^\\dagger A_{n} \\right]  \\vert  \\psi \\rangle \\right) \n",
    "\\end{align*}"
   ]
  },
  {
   "attachments": {},
   "cell_type": "markdown",
   "metadata": {},
   "source": [
    "By taking the difference of the probablity of measuring $0$ and $1$, we obtain the real value of the expectation value. Similar to the calculation of global cost function expectation values.\n",
    "\n",
    "\\begin{align*}\n",
    "{P(0)-P(1)} & = \\Big \\vert \\Big \\vert \\, [\\mathbb{I} +  A^\\dagger_{m} U Z_{j} U^\\dagger A_{n}] \\vert \\psi \\rangle \\, \\Big \\vert \\Big \\vert^2 - \\Big \\vert \\Big \\vert \\, [\\mathbb{I} -  A^\\dagger_{m} U Z_{j} U^\\dagger A_{n}] \\vert \\psi \\rangle \\, \\Big \\vert \\Big \\vert^2 \\\\ & = \\dfrac{1}{4} \\langle \\psi \\vert [\\mathbb{I} +  A^\\dagger_{m} U Z_{j} U^\\dagger A_{n}]^\\dagger [\\mathbb{I} +  A^\\dagger_{m} U Z_{j} U^\\dagger A_{n}] \\vert \\psi \\rangle \\\\ & \\quad - \\dfrac{1}{4}\\langle \\psi \\vert [\\mathbb{I} -  A^\\dagger_{m} U Z_{j} U^\\dagger A_{n}]^\\dagger [\\mathbb{I} -  A^\\dagger_{m} U Z_{j} U^\\dagger A_{n}] \\vert \\psi \\rangle \\\\\n",
    "&= \\dots =  {\\mathrm{Re} \\langle \\psi \\vert  A^\\dagger_{m} U Z_{j} U^\\dagger A_{n}  \\vert \\psi \\rangle}\n",
    "\\end{align*}"
   ]
  },
  {
   "attachments": {},
   "cell_type": "markdown",
   "metadata": {},
   "source": [
    "Analogously, we can evaluate the imaginary part by introducing an additional phase gate for preperation:"
   ]
  },
  {
   "attachments": {},
   "cell_type": "markdown",
   "metadata": {},
   "source": [
    "\\begin{align*}\n",
    "\\vert 0 \\rangle \\otimes  \\vert  \\psi \\rangle & \\overset{(i)}{\\rightarrow} {P\\left(-\\frac{\\pi}{2}\\right) H}   \\vert 0 \\rangle \\otimes  \\vert  \\psi \\rangle = \\dfrac{1}{\\sqrt{2}} \\left(  \\vert 0 \\rangle - i \\vert 1 \\rangle \\right) \\otimes \\vert \\psi \\rangle  \\quad \\\\ & \\overset{(ii)}{\\rightarrow} \\dfrac{1}{\\sqrt{2}} \\left(  \\vert 0 \\rangle - i \\vert 1 \\rangle \\right) \\otimes   {CA^\\dagger_{m,0,1} U C Z_{j,0,1} U^\\dagger CA_{n,0,1}} \\vert \\psi \\rangle  \\\\\n",
    "& =  \\dfrac{1}{\\sqrt{2}} \\left(  \\vert 0  \\rangle \\otimes {U U^\\dagger} \\vert  \\psi \\rangle - i \\vert 1 \\rangle \\otimes A^\\dagger_{m} U Z_{j} U^\\dagger A_{n} \\vert  \\psi \\rangle \\right) \\\\\n",
    "& =  \\dfrac{1}{\\sqrt{2}} \\left(  \\vert 0  \\rangle \\otimes  \\vert  \\psi \\rangle -i \\vert 1 \\rangle \\otimes A^\\dagger_{m} U Z_{j} U^\\dagger A_{n} \\vert  \\psi \\rangle \\right)   \n",
    "\\\\ & \\overset{(iii)}{\\rightarrow} \\dfrac{1}{\\sqrt{2}} \\left(  {H}  \\vert 0  \\rangle \\otimes  \\vert  \\psi \\rangle -  {H} i \\vert 1 \\rangle \\otimes A^\\dagger_{m} U Z_{j} U^\\dagger A_{n} \\vert  \\psi \\rangle \\right) \\\\\n",
    "& =  \\dfrac{1}{2} \\left( \\left[   \\vert 0  \\rangle + \\vert 1  \\rangle \\right] \\otimes  \\vert  \\psi \\rangle -i \\left[   \\vert 0  \\rangle - \\vert 1  \\rangle \\right] \\otimes A^\\dagger_{m} U Z_{j} U^\\dagger A_{n} \\vert  \\psi \\rangle \\right) \\\\\n",
    "&  =\\dfrac{1}{2} \\left( \\vert 0  \\rangle \\otimes \\left[ \\mathbb{I} -i A^\\dagger_{m} U Z_{j} U^\\dagger A_{n} \\right]   \\vert  \\psi \\rangle + \\vert 1 \\rangle \\otimes \\left[  \\mathbb{I}  +i A^\\dagger_{m} U Z_{j} U^\\dagger A_{n} \\right]  \\vert  \\psi \\rangle \\right) \n",
    "\\end{align*}"
   ]
  },
  {
   "attachments": {},
   "cell_type": "markdown",
   "metadata": {},
   "source": [
    "\\begin{align*}\n",
    "{P(0)-P(1)} & = \\Big \\vert \\Big \\vert \\, [\\mathbb{I} -i A^\\dagger_{m} U Z_{j} U^\\dagger A_{n}] \\vert \\psi \\rangle \\, \\Big \\vert \\Big \\vert^2 - \\Big \\vert \\Big \\vert \\, [\\mathbb{I} + i  A^\\dagger_{m} U Z_{j} U^\\dagger A_{n}] \\vert \\psi \\rangle \\, \\Big \\vert \\Big \\vert^2 \\\\ & = \\dfrac{1}{4} \\langle \\psi \\vert [\\mathbb{I} - i  A^\\dagger_{m} U Z_{j} U^\\dagger A_{n}]^\\dagger [\\mathbb{I} -i  A^\\dagger_{m} U Z_{j} U^\\dagger A_{n}] \\vert \\psi \\rangle \\\\ & \\quad - \\dfrac{1}{4}\\langle \\psi \\vert [\\mathbb{I} + i  A^\\dagger_{m} U Z_{j} U^\\dagger A_{n}]^\\dagger [\\mathbb{I} + i  A^\\dagger_{m} U Z_{j} U^\\dagger A_{n}] \\vert \\psi \\rangle \\\\\n",
    "&= \\dots =  {\\mathrm{Im} \\langle \\psi \\vert  A^\\dagger_{m} U Z_{j} U^\\dagger A_{n}  \\vert \\psi \\rangle}\n",
    "\\end{align*}"
   ]
  },
  {
   "attachments": {},
   "cell_type": "markdown",
   "metadata": {},
   "source": [
    "$\\dots$ and evaulte the overall expectation value by adding real and imaginary part\n",
    "\n",
    "<br>\n",
    "\n",
    "\\begin{align*}\n",
    "\\langle \\psi \\vert  A^\\dagger_{m} U Z_{j} U^\\dagger A_{n}  \\vert \\psi \\rangle = \\mathrm{Re} \\langle \\psi \\vert  A^\\dagger_{m} U Z_{j} U^\\dagger A_{n}  \\vert \\psi \\rangle + i \\, \\mathrm{Im} \\langle \\psi \\vert  A^\\dagger_{m} U Z_{j} U^\\dagger A_{n}  \\vert \\psi \\rangle\n",
    "\\end{align*}"
   ]
  },
  {
   "attachments": {},
   "cell_type": "markdown",
   "metadata": {},
   "source": [
    "Notice how $ {U U^\\dagger = \\mathbb{I}}$ allows us to drop the control line of the Hadamard test."
   ]
  },
  {
   "attachments": {},
   "cell_type": "markdown",
   "metadata": {},
   "source": [
    "<b> Last (optimization) step </b>:\n",
    "\n",
    "- Adjust the parateters $\\alpha$ classically and optimize the costfunction (<a href=\"https://link.springer.com/content/pdf/10.1007/s11128-021-03140-x.pdf\">ongoing research topic</a>)\n",
    "\n",
    "    - Use SPSA if their is noise \n",
    "    - Use COBYLA if you are noise-free (no shot-noise, as well)\n",
    "\n",
    "    <br>"
   ]
  },
  {
   "attachments": {},
   "cell_type": "markdown",
   "metadata": {},
   "source": [
    "- Return the optimal result \n",
    "\\begin{align*}\n",
    "\\vert \\psi (\\alpha_\\mathrm{opt})\\rangle = A \\vert x (\\alpha_\\mathrm{opt}) \\rangle \\approx \\vert b \\rangle\n",
    "\\end{align*}\n",
    "\n"
   ]
  },
  {
   "attachments": {},
   "cell_type": "markdown",
   "metadata": {},
   "source": [
    "In the case of local cost function, we have all the functions (matrices and vectors involved in calculating the expectation values) are all defined in the main program. "
   ]
  },
  {
   "cell_type": "code",
   "execution_count": 31,
   "metadata": {},
   "outputs": [],
   "source": [
    "# Grab functions and modules from dependencies\n",
    "import math\n",
    "import numpy as np\n",
    "from scipy.optimize import minimize, fmin_cg, OptimizeResult\n",
    "from scipy.sparse import csr_matrix\n",
    "from qiskit.algorithms.optimizers import SPSA\n",
    "import mthree\n",
    "from scipy.sparse import random\n",
    "from scipy import stats\n",
    "from numpy.random import default_rng\n",
    "from numpy import linalg as LA\n",
    "\n",
    "#from collections.abc import Iterable\n",
    "import functools\n",
    "import inspect\n",
    "import itertools\n",
    "#import numbers\n",
    "from operator import matmul\n",
    "\n",
    "# Grab functions and modules from Qiskit needed\n",
    "import qiskit\n",
    "from qiskit import QuantumCircuit, QuantumRegister, ClassicalRegister, execute, transpile, Aer, assemble\n",
    "from qiskit.circuit import ParameterVector\n",
    "import qiskit.circuit.library.n_local as lib_local\n",
    "from qiskit.circuit import Gate\n",
    "\n",
    "#from qiskit.providers.aer import UnitarySimulator\n",
    "from qiskit.quantum_info import Statevector\n",
    "from qiskit.visualization import plot_bloch_multivector\n",
    "\n",
    "#from qiskit.opflow import X, Y, Z, Zero, One, I\n",
    "from qiskit.quantum_info.operators.symplectic.pauli_list import PauliList\n",
    "from qiskit.quantum_info.operators.symplectic.pauli import Pauli\n",
    "\n",
    "from qiskit.quantum_info import SparsePauliOp\n",
    "\n",
    "from qiskit.circuit.library import EfficientSU2, TwoLocal, NLocal, PauliTwoDesign\n",
    "#from qiskit_nature.circuit.library import UCCSD, PUCCD, SUCCD\n",
    "\n",
    "from qiskit.providers.ibmq.runtime import UserMessenger\n",
    "\n",
    "# Plotting\n",
    "import matplotlib.pyplot as plt\n",
    "from matplotlib.ticker import LinearLocator, FormatStrFormatter\n",
    "from qiskit import IBMQ\n",
    "\n",
    "from typing import List, Union"
   ]
  },
  {
   "attachments": {},
   "cell_type": "markdown",
   "metadata": {},
   "source": [
    "In the Local cost function, we only need to calculate one expectation value $\\langle \\psi \\vert  A^\\dagger_{m} U Z_{j} U^\\dagger A_{n}  \\vert \\psi \\rangle$ unlike in the global cost funcion. The logic of the program is as follows: \n",
    "\n",
    "- First, we determine the number of the qubits depending on the vector\n",
    "- We decompose the matrix into string og Pauli operatos along with the coefficients\n",
    "- We then take the ansatz input which can be custom made (Hardware efficient) or import ansatzes from the qiskit library\n",
    "- we then calculate the expectation value and the cost function. We do that by seeing the optimization routine, the user has requested, eg. SPSA verses SciPy ones, and dispatch to the correct optimizer. The selected optimizer starts at x0 and calls 'cost_loc' everytime the optimizer needs to evaluate the cost function. The result is returned as a SciPy OptimizerResult object.\n",
    "- Finally, we end up with the result, cost function and the quantum solution."
   ]
  },
  {
   "attachments": {},
   "cell_type": "markdown",
   "metadata": {},
   "source": [
    "Once the matrix and vector are given as an input, we can start building the quantum circuit. The number of qubits required to build the circuit is log of the length of the vector."
   ]
  },
  {
   "cell_type": "code",
   "execution_count": 10,
   "metadata": {},
   "outputs": [],
   "source": [
    "vector=np.ones(4)\n",
    "num_qubits = int(np.log2(len(vector))) # number of system qubits\n",
    "tot_qubits = num_qubits + 1  # Addition of an ancillary qubit\n",
    "ancilla_idx = num_qubits  # Index of the ancillary qubit for the Hadamard test(last position)"
   ]
  },
  {
   "attachments": {},
   "cell_type": "markdown",
   "metadata": {},
   "source": [
    "Decomposing the given matrix into pauli operators and coefficients"
   ]
  },
  {
   "cell_type": "code",
   "execution_count": 8,
   "metadata": {},
   "outputs": [],
   "source": [
    "#Convert the matrix to Hamiltonian\n",
    "matrix = np.array([[ 1,0,  0.  ,  0. ],\n",
    "       [-0.81,  2.62, -0.81,  0. ,],\n",
    "       [ 0.  , -0.81,  2.62, -0.81],\n",
    "       [ 0.  ,  0.  , 0,1]])\n",
    "pauli_op = SparsePauliOp.from_operator(matrix) \n",
    "coeffs = pauli_op.coeffs\n",
    "obs_list = pauli_op.paulis"
   ]
  },
  {
   "attachments": {},
   "cell_type": "markdown",
   "metadata": {},
   "source": [
    "Since $A_m, U, A_m^{\\dag}$ are the terms in the above expextation value. We can look at them one by one and build the quantum circuit for each of them.  \n",
    "\n",
    "Controlled $CA$ takes in the input of number of qubits, PauliList of pauli operators and idx to select the pauli operator string. \n",
    "\n",
    "We get the quantum circuit with the number of qubits needed and with the Pauli gates applied on each of the qubit and we then convert the quantum circuit to gate."
   ]
  },
  {
   "cell_type": "code",
   "execution_count": 12,
   "metadata": {},
   "outputs": [],
   "source": [
    "def CA(qc, obs_list, idx):\n",
    "\n",
    "    operators = obs_list[idx]   \n",
    "\n",
    "    for j in reversed(range(len(operators))):\n",
    "        if operators[j] == Pauli('I'):\n",
    "            None\n",
    "        elif operators[j] == Pauli('X'):\n",
    "            qc.cx(ancilla_idx, j)\n",
    "        elif operators[j] == Pauli('Y'):\n",
    "            qc.cy(ancilla_idx, j)\n",
    "        elif operators[j] == Pauli('Z'):\n",
    "            qc.cz(ancilla_idx, j)\n",
    "    return qc"
   ]
  },
  {
   "attachments": {},
   "cell_type": "markdown",
   "metadata": {},
   "source": [
    "the transpiled circuit for the backend is:"
   ]
  },
  {
   "cell_type": "code",
   "execution_count": 13,
   "metadata": {},
   "outputs": [
    {
     "data": {
      "image/png": "[encoded data removed]",
      "text/plain": [
       "<Figure size 206.997x264.88 with 1 Axes>"
      ]
     },
     "execution_count": 13,
     "metadata": {},
     "output_type": "execute_result"
    }
   ],
   "source": [
    "backend = Aer.get_backend('qasm_simulator') # using qasm simulator as backend. \n",
    "qc = QuantumCircuit(num_qubits+1, 1)\n",
    "mycirc = CA(qc,obs_list,4)\n",
    "mycirc = transpile(mycirc, backend)\n",
    "mycirc.draw('mpl')"
   ]
  },
  {
   "attachments": {},
   "cell_type": "markdown",
   "metadata": {},
   "source": [
    "Similyrly for controlled $CA_{dag}$"
   ]
  },
  {
   "cell_type": "code",
   "execution_count": 16,
   "metadata": {},
   "outputs": [],
   "source": [
    "def CA_dag(qc, obs_list, idx):\n",
    "\n",
    "    operators = obs_list[idx]   \n",
    "\n",
    "    for j in range(len(operators)):\n",
    "        if operators[j] == Pauli('I'):\n",
    "            None\n",
    "        elif operators[j] == Pauli('X'):\n",
    "            qc.cx(ancilla_idx, j)\n",
    "        elif operators[j] == Pauli('Y'):\n",
    "            qc.cy(ancilla_idx, j)\n",
    "        elif operators[j] == Pauli('Z'):\n",
    "            qc.cz(ancilla_idx, j)\n",
    "    return qc   "
   ]
  },
  {
   "attachments": {},
   "cell_type": "markdown",
   "metadata": {},
   "source": [
    "transpiled circuit takes the form for the given backend:"
   ]
  },
  {
   "cell_type": "code",
   "execution_count": 17,
   "metadata": {},
   "outputs": [
    {
     "data": {
      "image/png": "[encoded data removed]",
      "text/plain": [
       "<Figure size 206.997x264.88 with 1 Axes>"
      ]
     },
     "execution_count": 17,
     "metadata": {},
     "output_type": "execute_result"
    }
   ],
   "source": [
    "qc_dag = QuantumCircuit(num_qubits+1, 1)\n",
    "mycirc_dag = CA_dag(qc_dag,obs_list,4)\n",
    "mycirc_dag = transpile(mycirc_dag, backend)\n",
    "mycirc_dag.draw('mpl')"
   ]
  },
  {
   "attachments": {},
   "cell_type": "markdown",
   "metadata": {},
   "source": [
    "In the expectation value, we have the $V^{\\dagger}$ and $U^{\\dagger}$, therefore we can have a look at how to produce this circuits. So complex conjugate of the unitary operators are inverse of a quantum circuit for unitary operator. Below, we see an example of an ansatz and also it's inverse."
   ]
  },
  {
   "cell_type": "code",
   "execution_count": 18,
   "metadata": {},
   "outputs": [
    {
     "data": {
      "image/png": "[encoded data removed]",
      "text/plain": [
       "<Figure size 206.852x144.48 with 1 Axes>"
      ]
     },
     "execution_count": 18,
     "metadata": {},
     "output_type": "execute_result"
    }
   ],
   "source": [
    "def custom_ansatz(num_qubits):\n",
    "    \n",
    "    circ = QuantumCircuit(num_qubits) # building the quantum circuit\n",
    "    theta = ParameterVector('a', length = num_qubits) # initializing the parametere for the ansatz\n",
    "    \n",
    "    for idx in range(num_qubits):\n",
    "        circ.h(idx)\n",
    "\n",
    "    #A very minimal variational circuit.\n",
    "    for idx in range(num_qubits):\n",
    "        #print(idx, element)\n",
    "        circ.ry(theta[idx], idx)\n",
    "    \n",
    "    return circ, len(theta)\n",
    "\n",
    "ansatz_circuit, num_params = custom_ansatz(2)\n",
    "ansatz_circuit.draw('mpl')"
   ]
  },
  {
   "attachments": {},
   "cell_type": "markdown",
   "metadata": {},
   "source": [
    "After transpiling tha ansatz on the backend, we obtain the following circuit."
   ]
  },
  {
   "cell_type": "code",
   "execution_count": 19,
   "metadata": {},
   "outputs": [
    {
     "data": {
      "image/png": "[encoded data removed]",
      "text/plain": [
       "<Figure size 1049.8x204.68 with 1 Axes>"
      ]
     },
     "execution_count": 19,
     "metadata": {},
     "output_type": "execute_result"
    }
   ],
   "source": [
    "Ansatz_gate = ansatz_circuit.to_gate(label=\"ansatz\")\n",
    "CAnsatz_gate = Ansatz_gate.control(1) \n",
    "\n",
    "new_qc = QuantumCircuit(3)\n",
    "new_qc.append(CAnsatz_gate, [0, 1, 2])\n",
    "\n",
    "new_qc = transpile(new_qc, backend)\n",
    "new_qc.draw('mpl')"
   ]
  },
  {
   "attachments": {},
   "cell_type": "markdown",
   "metadata": {},
   "source": [
    "we can easily get the inverse of the circuit by invoking the inverse function in the qiskit."
   ]
  },
  {
   "cell_type": "code",
   "execution_count": 20,
   "metadata": {},
   "outputs": [
    {
     "data": {
      "image/png": "[encoded data removed]",
      "text/plain": [
       "<Figure size 929.397x204.68 with 1 Axes>"
      ]
     },
     "execution_count": 20,
     "metadata": {},
     "output_type": "execute_result"
    }
   ],
   "source": [
    "new_qc_inverse = transpile(new_qc, backend)\n",
    "new_qc_inverse = new_qc_inverse.inverse()\n",
    "new_qc_inverse.draw('mpl')"
   ]
  },
  {
   "attachments": {},
   "cell_type": "markdown",
   "metadata": {},
   "source": [
    "Similar procedure goes for $U^{\\dagger}$. Building $U$ circuit and inversing the circuit, we obtain $U^{\\dagger}$"
   ]
  },
  {
   "cell_type": "code",
   "execution_count": 21,
   "metadata": {},
   "outputs": [],
   "source": [
    "def U_b(vector: np.array, to_gate:True):\n",
    "    \n",
    "    n = int(np.log2(len(vector)))\n",
    "    qc = QuantumCircuit(n)\n",
    "    qc.isometry(vector / np.linalg.norm(vector), list(range(n)), None)\n",
    "    qc = transpile(qc, backend)\n",
    "    \n",
    "    return qc.to_gate(label=\"$U_b$\") if to_gate else qc"
   ]
  },
  {
   "cell_type": "code",
   "execution_count": null,
   "metadata": {},
   "outputs": [],
   "source": [
    "vector = np.ones(4)\n",
    "my_circ1 = U_b(vector,to_gate=False)\n",
    "my_circ1 = transpile(my_circ1, backend)\n",
    "my_circ1.draw('mpl')"
   ]
  },
  {
   "attachments": {},
   "cell_type": "markdown",
   "metadata": {},
   "source": [
    "$U^{\\dagger}$ circuit is:"
   ]
  },
  {
   "cell_type": "code",
   "execution_count": null,
   "metadata": {},
   "outputs": [],
   "source": [
    "mycirc1_inv = my_circ1.inverse()\n",
    "mycirc1_inv.draw('mpl')"
   ]
  },
  {
   "attachments": {},
   "cell_type": "markdown",
   "metadata": {},
   "source": [
    "Having dealt with the operators used to calculate the expectation valie, we combine them and write the main program. The explanation of step by by step code is given as follows:\n",
    "\n",
    "- First, we determine the number of qubits based on the vector.\n",
    "- The matrix is decomposed into a string of Pauli operatos along with the coefficients.\n",
    "- To begin, we select the ansatz input, which can be either a user-created (Hardware-efficient) version or one of the predefined versions found in the qiskit library.\n",
    "\n",
    "- The expectation values are then computed.\n",
    "- We compute the cost function by comparing the optimization routines requested by the user, such as SPSA versus SciPy, and dispatching to the appropriate optimizer. The chosen optimizer starts at x0 and calls 'cost_loc' every time the cost function needs to be evaluated. The outcome is a SciPy OptimizerResult object.\n",
    "- Finally, we have the result, the cost function, and the quantum solution."
   ]
  },
  {
   "cell_type": "code",
   "execution_count": 32,
   "metadata": {},
   "outputs": [],
   "source": [
    "# The entrypoint for our Runtime Program\n",
    "def main(backend, user_messenger,\n",
    "         matrix,\n",
    "         vector,\n",
    "         ansatz,\n",
    "         ansatz_config,\n",
    "         ansatz_circuit,\n",
    "         num_params,\n",
    "         x0,\n",
    "         optimizer,\n",
    "         optimizer_config,\n",
    "         shots,\n",
    "        ):\n",
    "    \n",
    "    \n",
    "    #determine number of qubits\n",
    "    num_qubits = int(np.log2(len(vector))) # number of system qubits\n",
    "    tot_qubits = num_qubits + 1  # Addition of an ancillary qubit\n",
    "    ancilla_idx = num_qubits  # Index of the ancillary qubit for the Hadamard test(last position)\n",
    "    \n",
    "    #Convert the matrix to Hamiltonian\n",
    "    pauli_op = SparsePauliOp.from_operator(matrix) \n",
    "    coeffs = pauli_op.coeffs\n",
    "    obs_list = pauli_op.paulis\n",
    "    \n",
    "    if ansatz=='custom':\n",
    "        \n",
    "        ansatz_circuit = ansatz_circuit\n",
    "        num_params = num_params\n",
    "        \n",
    "    else: \n",
    "            \n",
    "        # We grab the requested ansatz circuit class from the Qiskit circuit library\n",
    "        # n_local module and configure it using the number of qubits and options\n",
    "        # passed in the ansatz_config.\n",
    "        ansatz_instance = getattr(lib_local, ansatz)\n",
    "        ansatz_circuit = ansatz_instance(num_qubits, **ansatz_config)\n",
    "\n",
    "        # Get the number of parameters in the ansatz circuit.\n",
    "        num_params = ansatz_circuit.num_parameters\n",
    "    \n",
    "    # Use a given initial state, if any, or do random initial state.\n",
    "    if x0:\n",
    "        x0 = np.asarray(x0, dtype=float)\n",
    "        if x0.shape[0] != num_params:\n",
    "            raise ValueError('Number of params in x0 ({}) does not match number \\\n",
    "                              of ansatz parameters ({})'. format(x0.shape[0],\n",
    "                                                                 num_params))\n",
    "    else:\n",
    "        x0 = 2*np.pi*np.random.rand(num_params)  \n",
    "        #x0 = [float(np.random.randint(0,10))/1000 for i in range(0, num_params)]\n",
    "           \n",
    "    \n",
    "    # Here we define a callback function that will stream the optimizer parameter vector\n",
    "    # back to the user after each iteration.  This uses the `user_messenger` object.\n",
    "    # Here we convert to a list so that the return is user readable locally, but\n",
    "    # this is not required.\n",
    "        \n",
    "    def callback(xk):\n",
    "        user_messenger.publish(list(xk))\n",
    "\n",
    "    \n",
    "    def CA(qc, obs_list, idx):\n",
    "\n",
    "        operators = obs_list[idx]   \n",
    "\n",
    "        for j in reversed(range(len(operators))):\n",
    "            if operators[j] == Pauli('I'):\n",
    "                None\n",
    "            elif operators[j] == Pauli('X'):\n",
    "                qc.cx(ancilla_idx, j)\n",
    "            elif operators[j] == Pauli('Y'):\n",
    "                qc.cy(ancilla_idx, j)\n",
    "            elif operators[j] == Pauli('Z'):\n",
    "                qc.cz(ancilla_idx, j)\n",
    "            \n",
    "    def CA_dag(qc, obs_list, idx):\n",
    "\n",
    "        operators = obs_list[idx]   \n",
    "\n",
    "        for j in range(len(operators)):\n",
    "            if operators[j] == Pauli('I'):\n",
    "                None\n",
    "            elif operators[j] == Pauli('X'):\n",
    "                qc.cx(ancilla_idx, j)\n",
    "            elif operators[j] == Pauli('Y'):\n",
    "                qc.cy(ancilla_idx, j)\n",
    "            elif operators[j] == Pauli('Z'):\n",
    "                qc.cz(ancilla_idx, j)\n",
    "                \n",
    "    def local_hadamard_test(weights, l=None, lp=None, j=None, part=None):\n",
    "    \n",
    "        qc = QuantumCircuit(num_qubits+1, 1)\n",
    "\n",
    "        # First Hadamard gate applied to the ancillary qubit.\n",
    "        qc.h(ancilla_idx)\n",
    "\n",
    "        # For estimating the imaginary part of the coefficient \"mu\", we must add a \"-i\"\n",
    "        # phase gate.\n",
    "        if part == \"Im\" or part == \"im\":\n",
    "            qc.p(-np.pi / 2, ancilla_idx)\n",
    "\n",
    "        qubit_list = []\n",
    "\n",
    "        for s in range(num_qubits):\n",
    "            qubit_list.append(s)\n",
    "            \n",
    "        # Variational circuit generating a guess for the solution vector |x>\n",
    "        qc.append(ansatz_circuit.bind_parameters(weights), qubit_list)\n",
    "\n",
    "        qc.barrier()\n",
    "        # Controlled application of the unitary component A_l of the problem matrix A.\n",
    "        CA(qc, obs_list, l)\n",
    "\n",
    "        nb = int(np.log2(len(vector)))\n",
    "        vector_circuit = QuantumCircuit(nb)\n",
    "        vector_circuit.isometry(vector / np.linalg.norm(vector), list(range(nb)), None)\n",
    "        vector_circuit = vector_circuit.inverse()\n",
    "\n",
    "        qc.append(vector_circuit, qubit_list)\n",
    "\n",
    "        qc.barrier()\n",
    "\n",
    "        # Controlled Z operator at position j. If j = -1, apply the identity.\n",
    "        if j != -1:\n",
    "            qc.cz(ancilla_idx, j)\n",
    "\n",
    "        qc.barrier()\n",
    "\n",
    "        # Unitary U_b associated to the problem vector |b>.\n",
    "        qc.isometry(vector / np.linalg.norm(vector), list(range(nb)), None)\n",
    "\n",
    "        # Controlled application of Adjoint(A_lp).\n",
    "        CA_dag(qc, obs_list, lp)\n",
    "        #CA(qc, obs_list, lp)\n",
    "\n",
    "        qc.barrier()\n",
    "        # # Second Hadamard gate applied to the ancillary qubit.\n",
    "        qc.h(ancilla_idx)\n",
    "\n",
    "        qc = transpile(qc, basis_gates=['id', 'rz', 'sx', 'x', 'cx'])\n",
    "        qc.barrier()\n",
    "        qc.measure(ancilla_idx, 0)\n",
    "\n",
    "        job = backend.run(qc, shots=shots)\n",
    "        result = job.result().get_counts()\n",
    "\n",
    "\n",
    "        if len(result)==1:\n",
    "            for s in result.keys():\n",
    "                if s=='0':\n",
    "                    expectation = result['0']/shots\n",
    "                if s=='1':\n",
    "                    expectation = -result['1']/shots\n",
    "        else:        \n",
    "            expectation = (result['0']-result['1'])/shots\n",
    "\n",
    "        return expectation\n",
    "    \n",
    "    def mu(weights, l=None, lp=None, j=None):\n",
    "        \"\"\"Generates the coefficients to compute the \"local\" cost function C_L.\"\"\"\n",
    "\n",
    "        mu_real = local_hadamard_test(weights, l=l, lp=lp, j=j, part=\"Re\")\n",
    "        mu_imag = local_hadamard_test(weights, l=l, lp=lp, j=j, part=\"Im\")\n",
    "        \n",
    "        return mu_real + 1.0j * mu_imag\n",
    "    \n",
    "    def psi_norm(weights):\n",
    "        \"\"\"Returns the normalization constant <psi|psi>, where |psi> = A |x>.\"\"\"\n",
    "        norm = 0.0\n",
    "\n",
    "        for l in range(0, len(coeffs)):\n",
    "            for lp in range(0, len(coeffs)):\n",
    "                norm = norm + coeffs[l] * np.conj(coeffs[lp]) * mu(weights, l, lp, -1)\n",
    "\n",
    "        return abs(norm)\n",
    "\n",
    "    \n",
    "    def cost_loc(weights):\n",
    "        \"\"\"Local version of the cost function. Tends to zero when A|x> is proportional to |b>.\"\"\"\n",
    "        mu_sum = 0.0\n",
    "\n",
    "        for l in range(0, len(coeffs)):\n",
    "            for lp in range(0, len(coeffs)):\n",
    "                for j in range(0, num_qubits):\n",
    "                    mu_sum = mu_sum + coeffs[l] * np.conj(coeffs[lp]) * mu(weights, l, lp, j)\n",
    "\n",
    "        mu_sum = abs(mu_sum)\n",
    "        pn = psi_norm(weights)\n",
    "\n",
    "        # Cost function C_L\n",
    "        cf = 0.5 - 0.5 * mu_sum / (num_qubits * pn)\n",
    "\n",
    "        cost_function.append(cf)\n",
    "\n",
    "        return cf\n",
    "    \n",
    "    # Here is where we actually perform the computation.  We begin by seeing what\n",
    "    # optimization routine the user has requested, eg. SPSA verses SciPy ones,\n",
    "    # and dispatch to the correct optimizer.  The selected optimizer starts at\n",
    "    # x0 and calls 'cost_loc' everytime the optimizer needs to evaluate the cost\n",
    "    # function.  The result is returned as a SciPy OptimizerResult object.\n",
    "    # Additionally, after every iteration, we use the 'callback' function to\n",
    "    # publish the interm results back to the user. This is important to do\n",
    "    # so that if the Program terminates unexpectedly, the user can start where they\n",
    "    # left off.\n",
    "    \n",
    "    cost_function = []\n",
    "    \n",
    "    # Since SPSA is not in SciPy need if statement\n",
    "    if optimizer == 'SPSA':\n",
    "        opt = SPSA(maxiter=500)\n",
    "        res = opt.minimize(cost_loc,x0)\n",
    "    # All other SciPy optimizers here\n",
    "    else:\n",
    "        res = minimize(cost_loc, x0, method=optimizer,options=optimizer_config, callback=callback)\n",
    "    # Return result. res is a subclass of dict.\n",
    "    \n",
    "    circ = ansatz_circuit.bind_parameters(res.x)\n",
    "    circ.measure_all()\n",
    "    \n",
    "    t_circ = transpile(circ, backend)\n",
    "    job = backend.run(t_circ, shots=shots)\n",
    "    result = job.result()\n",
    "    \n",
    "    sorted_keys = sorted(result.get_counts())\n",
    "    solution_probabilities = np.zeros(2**num_qubits)\n",
    "    i=0\n",
    "    for key in sorted_keys:\n",
    "        solution_probabilities[i] = result.get_counts()[key]\n",
    "        i=i+1\n",
    "\n",
    "    o = solution_probabilities/shots\n",
    "    \n",
    "    # quantum probabilities to actual classical solution\n",
    "    quantum_solution = np.sqrt(np.real(o))*np.linalg.norm(vector)\n",
    "    \n",
    "    \n",
    "    return res, cost_function, quantum_solution,"
   ]
  },
  {
   "attachments": {},
   "cell_type": "markdown",
   "metadata": {},
   "source": [
    "Giving the inputs for backend, matrx and vector."
   ]
  },
  {
   "cell_type": "code",
   "execution_count": 33,
   "metadata": {},
   "outputs": [],
   "source": [
    "backend = Aer.get_backend('qasm_simulator')\n",
    "msg = UserMessenger()\n",
    "\n",
    "matrix = np.eye(2)\n",
    "vector = np.ones(2)\n",
    "\n",
    "A_inv = np.linalg.inv(matrix)\n",
    "classical_solution = np.dot(A_inv, vector)"
   ]
  },
  {
   "attachments": {},
   "cell_type": "markdown",
   "metadata": {},
   "source": [
    "Executing the main program to obtain the result, cost function and quantum solution"
   ]
  },
  {
   "cell_type": "code",
   "execution_count": 34,
   "metadata": {},
   "outputs": [
    {
     "name": "stderr",
     "output_type": "stream",
     "text": [
      "c:\\Users\\mummanen\\Anaconda3\\lib\\site-packages\\scipy\\optimize\\_minimize.py:548: RuntimeWarning: Method COBYLA does not support callback.\n",
      "  warn('Method %s does not support callback.' % method, RuntimeWarning)\n"
     ]
    }
   ],
   "source": [
    "# Execute the main routine for our sparseMatrix and vector\n",
    "# Try another qiskit ansatz: EfficientSU2, TwoLocal, NLocal, PauliTwoDesign, UCCSD, PUCCD, SUCCD\n",
    "# Or another scipy optimizer: SPSA, Nelder-Mead, Powell, CG, BFGS, Newton-CG, L-BFGS-B, TNC, COBYLA, SLSQP etc.\n",
    "\n",
    "\n",
    "result, cost_fn, quantum_solution = main(backend,msg,\n",
    "                                         matrix,\n",
    "                                         vector,\n",
    "                                         ansatz='TwoLocal',\n",
    "                                         ansatz_config={'reps': 3, 'entanglement': 'linear', 'rotation_blocks': ['ry', 'rz'], 'entanglement_blocks': 'cx'},\n",
    "                                         ansatz_circuit = None,\n",
    "                                         num_params = None,\n",
    "                                         x0=None,\n",
    "                                         optimizer='COBYLA',\n",
    "                                         optimizer_config={'maxiter': 200},\n",
    "                                         shots = 1024,\n",
    "                                         )\n"
   ]
  },
  {
   "attachments": {},
   "cell_type": "markdown",
   "metadata": {},
   "source": [
    "Visualization of the results (both cost function and quantum solution)."
   ]
  },
  {
   "cell_type": "code",
   "execution_count": 35,
   "metadata": {},
   "outputs": [
    {
     "data": {
      "image/png": "[encoded data removed]",
      "text/plain": [
       "<Figure size 576x396 with 1 Axes>"
      ]
     },
     "metadata": {},
     "output_type": "display_data"
    }
   ],
   "source": [
    "plt.style.use(\"seaborn\")\n",
    "plt.plot(cost_fn, \"g\")\n",
    "plt.ylabel(\"Cost function\")\n",
    "plt.xlabel(\"Optimization steps\")\n",
    "plt.show()"
   ]
  },
  {
   "cell_type": "code",
   "execution_count": 36,
   "metadata": {},
   "outputs": [
    {
     "data": {
      "image/png": "[encoded data removed]",
      "text/plain": [
       "<Figure size 504x288 with 2 Axes>"
      ]
     },
     "metadata": {},
     "output_type": "display_data"
    }
   ],
   "source": [
    "num_qubits = int(np.log2(len(vector)))\n",
    "fig, (ax1, ax2) = plt.subplots(1, 2, figsize=(7, 4))\n",
    "\n",
    "ax1.bar(np.arange(0, 2 ** num_qubits), classical_solution, color=\"blue\")\n",
    "ax1.set_xlim(-0.5, 2 ** num_qubits - 0.5)\n",
    "ax1.set_xlabel(\"Vector space basis\")\n",
    "ax1.set_title(\"Classical solution\")\n",
    "\n",
    "ax2.bar(np.arange(0, 2 ** num_qubits), quantum_solution, color=\"green\")\n",
    "ax2.set_xlim(-0.5, 2 ** num_qubits - 0.5)\n",
    "ax2.set_xlabel(\"Hilbert space basis\")\n",
    "ax2.set_title(\"Quantum solution\")\n",
    "\n",
    "plt.show()"
   ]
  },
  {
   "attachments": {},
   "cell_type": "markdown",
   "metadata": {},
   "source": [
    "Therefore with that we have reached the end of this VQLS demonstrator. To recap, (i) we learnt the conversion of PDEs to linear system of equations, (ii) along with the intution behind the algorithm, we have learnt the rigorous theory of the algorithm, (iii) global cost function was studied step by step and leant how to calculate the expectation values on the quantum hardware, (iv) finally we looked into local cost function and it's theory. Although the VQLS algorithm was succesfully demonstrated, we still have a long way to go interms of efficiency of the algorithm. \n",
    "<br>\n",
    "\n",
    "Following are the some of the challenges we listed:"
   ]
  },
  {
   "attachments": {},
   "cell_type": "markdown",
   "metadata": {},
   "source": [
    "Challanges:\n",
    "\n",
    "- Find an efficient matrix decomposition of $A$ \n",
    "- Initialize the state $\\vert b \\rangle $ efficiently $\\vec{b} \\neq \\vec{0}$\n",
    "- Compare local cost function vs. global cost function (barren-plateaus vs. local minima). \n",
    "- Read out the entire vector $\\vert \\psi_{\\mathrm{optimal}} \\rangle = A \\vert x_{\\mathrm{optimal}} \\rangle$ with only a finite amount of shots (not an exponential scaling)\n"
   ]
  }
 ],
 "metadata": {
  "kernelspec": {
   "display_name": "base",
   "language": "python",
   "name": "python3"
  },
  "language_info": {
   "codemirror_mode": {
    "name": "ipython",
    "version": 3
   },
   "file_extension": ".py",
   "mimetype": "text/x-python",
   "name": "python",
   "nbconvert_exporter": "python",
   "pygments_lexer": "ipython3",
   "version": "3.9.12 (main, Apr  4 2022, 05:22:27) [MSC v.1916 64 bit (AMD64)]"
  },
  "orig_nbformat": 4,
  "vscode": {
   "interpreter": {
    "hash": "137a1295176ce66a7ded57fa2bf39d327238a1a5a04200a5a558013d7d4f9d1d"
   }
  }
 },
 "nbformat": 4,
 "nbformat_minor": 2
}
